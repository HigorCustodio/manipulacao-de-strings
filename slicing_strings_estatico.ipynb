{
 "cells": [
  {
   "attachments": {},
   "cell_type": "markdown",
   "metadata": {},
   "source": [
    "## Fatiamento (Slicing) de Strings de Forma Estatíca (Usando Posicionamento Fixo)"
   ]
  },
  {
   "attachments": {},
   "cell_type": "markdown",
   "metadata": {},
   "source": [
    "Sobre URL's:\n",
    "\n",
    "    -   Toda URL é composta por duas informações: base e paramêtros;\n",
    "    \n",
    "    -   Essa divisão de informações se da dividindo quais são as bases da url + quais são os paramêtros especifícos da página acessada.\n",
    "\n",
    "    -   Ao realizamos uma busca em ul site com o por exemplo o Twitter, quando realizamos o preenchimento do campo busca e clicarmos para realizar a busca a URL automáticamente irá se alterar, a url base receberá os paramêtros passados para realizar aquela determinada query:\n",
    "\n",
    "            Dominio = \"https://twitter.com\"\n",
    "            Página acessada = \"/home\"\n",
    "            Base da url = \"https://twitter.com/home\"\n",
    "\n",
    "        URL após realizar a busca:\n",
    "\n",
    "            Base da url = \"https://twitter.com/search\"\n",
    "            Separador = \"?\"\n",
    "            Paramêtros da url = \"q=alura&src=typed_query\"\n",
    "\n",
    "    Significado das informações contidas nos paramêtros da url:\n",
    "        - Ao analizar os paramêtros da url é possivel identificar que a mesma possuí 2 informações disponéveis:\n",
    "\n",
    "            \"q=alura\" =  o \"q=\" significa a query ou busca que esta sendo executada, seguida do valor \"alura\" que é o valor ao qual a busca esta se baseando;\n",
    "            \n",
    "            \"src=typed_query\" = o \"src=\" significa \"source\" que trás a informação da fonte da busca, seguido do valor que irá me dizer qual a forma de solicitação foi feita para realizar essa consulta, neste caso \"typed_query\" que significa \"consulta digitada\".\n",
    "\n",
    "            \"&\" = Separador dos paramêtros da URL;\n",
    "\n",
    "        - Ou seja, neste caso em específico os paramêtros da URL está me informando que \"foi realizado uma busca digítada pelo valor 'alura' dentro do dominío do Twitter\".\n"
   ]
  },
  {
   "cell_type": "code",
   "execution_count": 1,
   "metadata": {},
   "outputs": [
    {
     "data": {
      "text/plain": [
       "'https://bytebank.com/cambio?moedaOrigem=real'"
      ]
     },
     "execution_count": 1,
     "metadata": {},
     "output_type": "execute_result"
    }
   ],
   "source": [
    "url = \"https://bytebank.com/cambio?moedaOrigem=real\"\n",
    "url"
   ]
  },
  {
   "attachments": {},
   "cell_type": "markdown",
   "metadata": {},
   "source": [
    "##### Fatiamento da string:\n",
    "\n",
    "- O fatiamento de strings  basea-se em extrair determinada informação da string original, usando como base para esse fatiamento a posição dos elementos que compõe a string original;\n",
    "\n",
    "- Utilizando a string url como exemplo, podemos verificar que a url pode ser fatiada em duas, \"base da URL\" e os \"Paramêtros da URL\":\n",
    "\n",
    "        url = \"https://bytebank.com/cambio?moedaOrigem=real\"\n",
    "        base_url = \"https://bytebank.com/cambio\"\n",
    "        parametros_url = \"moedaOrigem=real\"\n",
    "        separador = \"?\"\n",
    "\n",
    "- Sabendo que nossa string URL pode ser fatiada, como podemos fazer isso?\n",
    "\n",
    "    -   Posso aplicar o fatiamento da string usando o posicionamento dos elementos que a compõe, desta forma, basta passar o posicionamento do início e do final da string para uma nova variavel:"
   ]
  },
  {
   "cell_type": "code",
   "execution_count": 2,
   "metadata": {},
   "outputs": [
    {
     "data": {
      "text/plain": [
       "'https://bytebank.com/cambi'"
      ]
     },
     "execution_count": 2,
     "metadata": {},
     "output_type": "execute_result"
    }
   ],
   "source": [
    "base_url = url[0:26]\n",
    "base_url"
   ]
  },
  {
   "attachments": {},
   "cell_type": "markdown",
   "metadata": {},
   "source": [
    "- O retorno do fatiamento da \"base_url\" foi realizado, porém, é possível identificar que o mesmo ocorreu de forma incorreta, levando em consideração que o desejado seria até a última letra anterior ao '?' que seria \"o\", porém, o fatiamento executado retornou com um caracter a menos (Letra \"o\").\n",
    "\n",
    "- Como observado, o fatiamento realizado ocorreu de forma incorreta, isso se da ao fato de que o fatiamento de strings utilizando o posicionamento em python se da utilizando-se da variavel \"url\" seguida da posição dos elementos \"[0-26]\", porém, esse posicionamento dos caracteres possuem uma caracteristica de inclusão para o primeiro valor \"0\" e de exclusão para o valor final \"26\", o que quer dizer que o fatiamento começará exatamente no elemento posicionado no primeiro valor passado, porém, irá acabar no valor final Excluíndo o elemento presente na posição final.\n",
    "\n",
    "-  Neste caso, para que seja possível armazenar o valor contido na posição \"26\" é necessário que seja passado nos paramêtros do fatiamento 1 posição a + do que a que o elemento final desejado se encontra, ex:"
   ]
  },
  {
   "cell_type": "code",
   "execution_count": 3,
   "metadata": {},
   "outputs": [
    {
     "data": {
      "text/plain": [
       "'https://bytebank.com/cambio'"
      ]
     },
     "execution_count": 3,
     "metadata": {},
     "output_type": "execute_result"
    }
   ],
   "source": [
    "base_url = url[0:27]\n",
    "base_url"
   ]
  },
  {
   "attachments": {},
   "cell_type": "markdown",
   "metadata": {},
   "source": [
    "- Podemos utilizar da mesma lógica para realizar o fatiamento dos \"paramêtros da url\":"
   ]
  },
  {
   "cell_type": "code",
   "execution_count": 4,
   "metadata": {},
   "outputs": [
    {
     "data": {
      "text/plain": [
       "'moedaOrigem=real'"
      ]
     },
     "execution_count": 4,
     "metadata": {},
     "output_type": "execute_result"
    }
   ],
   "source": [
    "parametros_url = url[28:44]\n",
    "parametros_url"
   ]
  },
  {
   "attachments": {},
   "cell_type": "markdown",
   "metadata": {},
   "source": [
    "- Veja, o separador utilizado na URL (\"?\") completa não é necessário para nenhuma das partes do fatiamento, já que seu único intuito é o de separar a \"base da url\" dos \"paramêtros da url\";"
   ]
  },
  {
   "attachments": {},
   "cell_type": "markdown",
   "metadata": {},
   "source": [
    "obs: Ao realizar o fatiamento da string \"url\" não é alterado o valor da string original, visto que, em Python ao declararmos uma variável, a mesma torna-se imutável, sendo assim, mesmo realizando fatiamentos em novas variávels o valor da string original continuará inalterado!"
   ]
  },
  {
   "cell_type": "code",
   "execution_count": 5,
   "metadata": {},
   "outputs": [
    {
     "name": "stdout",
     "output_type": "stream",
     "text": [
      "https://bytebank.com/cambio?moedaOrigem=real\n",
      "https://bytebank.com/cambio\n",
      "moedaOrigem=real\n",
      "https://bytebank.com/cambio?moedaOrigem=real\n"
     ]
    }
   ],
   "source": [
    "print(url)\n",
    "print(base_url)\n",
    "print(parametros_url)\n",
    "print(url)"
   ]
  }
 ],
 "metadata": {
  "kernelspec": {
   "display_name": "Python 3",
   "language": "python",
   "name": "python3"
  },
  "language_info": {
   "codemirror_mode": {
    "name": "ipython",
    "version": 3
   },
   "file_extension": ".py",
   "mimetype": "text/x-python",
   "name": "python",
   "nbconvert_exporter": "python",
   "pygments_lexer": "ipython3",
   "version": "3.10.11"
  },
  "orig_nbformat": 4
 },
 "nbformat": 4,
 "nbformat_minor": 2
}
