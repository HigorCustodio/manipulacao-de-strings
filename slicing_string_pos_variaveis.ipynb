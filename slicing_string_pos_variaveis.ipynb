{
 "cells": [
  {
   "cell_type": "markdown",
   "metadata": {},
   "source": [
    "## Fatiamento (Slicing) de Strings de Forma Estatíca (Usando Posicionamento Variável)"
   ]
  },
  {
   "cell_type": "code",
   "execution_count": 3,
   "metadata": {},
   "outputs": [],
   "source": [
    "url = \"https://bytebank.com/cambio?moedaOrigem=real\""
   ]
  },
  {
   "cell_type": "markdown",
   "metadata": {},
   "source": [
    "Como visto anteriormente, realizar o slicing em uma string de forma fixa é uma coisa simples de se fazer, necessitando apenas de\n",
    "saber o posicionamento que irá realizar o fatiamento, porém, esse conceito se aplica somente a URLS onde sua base e seus paramêtros sejam\n",
    "exatamente iguais no tamanho, algo que sabe-se ser impossível, já que mesmo que a base da url torne-se estatica, os paramêtros sempre\n",
    "serão variados conforme as informações contidas na página."
   ]
  },
  {
   "cell_type": "markdown",
   "metadata": {},
   "source": [
    "#### Como realizar o fatiamento da URL de forma variável?\n",
    "\n",
    "Para realizar um fatiamento eficiente, o correto é identificar a posição do elemento buscado dentro da URL, de forma onde independente de seu posicionamento e/ou alteração\n",
    "do restante da string, o que resultaria sempre na identificação correta da posição do elemento procurado.\n",
    "\n",
    "Mas, como fazer essa busca?\n",
    "\n",
    "    -   Em python existe o método find() que serve para encontrar o posicionamento do elemento passado como paramêtro, onde o find sempre retornará o valor da primeira posição\n",
    "    da string buscada, ou seja, no caso da url acima, caso ocorra uma busca url.find(\"bytebank\") retornará o valor == 7.\n",
    "\n",
    "    .Find():\n",
    "        -   Sintaxe:\n",
    "                string.find(substring, start, end):\n",
    "            Args:\n",
    "                • substring(str): elemento que será buscado dentro da string mãe;\n",
    "                • start(int): paramêtro não obrigatório, indicará a posição que será utilizada como início para a busca dentro da string mãe;\n",
    "                • end(int):paramêtro não obrigatório, indicará a posição que será utilizada como fim para a busca dentro da string mãe;\n",
    "            Raises:\n",
    "                • Caso encontre a substring procurada irá retornar a posição do primeiro elemento da substring;\n",
    "                • Caso NÃO encontre a substring procurada irá retornar -1;\n",
    "\n"
   ]
  },
  {
   "cell_type": "markdown",
   "metadata": {},
   "source": [
    "#### Exemplos aplicados com sucesso na busca dentro da URL:"
   ]
  },
  {
   "cell_type": "code",
   "execution_count": 4,
   "metadata": {},
   "outputs": [
    {
     "name": "stdout",
     "output_type": "stream",
     "text": [
      "moedaDestino=dolar&moedaOrigem=real\n",
      "19\n",
      "real\n"
     ]
    }
   ],
   "source": [
    "url = \"bytebank.com/cambio?moedaDestino=dolar&moedaOrigem=real\"\n",
    "\n",
    "indice_interrogacao = url.find('?')\n",
    "url_base = url[:indice_interrogacao]\n",
    "\n",
    "url_parametros = url[indice_interrogacao+1:]\n",
    "print(url_parametros)\n",
    "\n",
    "parametro_busca = 'moedaOrigem'\n",
    "indice_parametro = url_parametros.find(parametro_busca)\n",
    "\n",
    "print(indice_parametro)\n",
    "\n",
    "indice_valor = indice_parametro + len(parametro_busca) + 1\n",
    "valor = url_parametros[indice_valor:]\n",
    "\n",
    "print(valor)"
   ]
  },
  {
   "cell_type": "markdown",
   "metadata": {},
   "source": [
    "#### Exemplos aplicados sem sucesso na busca dentro da URL:"
   ]
  },
  {
   "cell_type": "code",
   "execution_count": 5,
   "metadata": {},
   "outputs": [
    {
     "name": "stdout",
     "output_type": "stream",
     "text": [
      "-1\n",
      "-1\n"
     ]
    }
   ],
   "source": [
    "indice_exclamação = url.find('!')\n",
    "print(indice_exclamação)\n",
    "\n",
    "parametro_busca = 'moedaPaís'\n",
    "indice_parametro = url.find(parametro_busca)\n",
    "print(indice_parametro)\n"
   ]
  },
  {
   "cell_type": "markdown",
   "metadata": {},
   "source": [
    "## Buscar parâmetros de uma URL:\n",
    "\n",
    "    -   Criar função que retorne um parâmetro dentro da URL com base em um valor passado para a busca."
   ]
  },
  {
   "cell_type": "code",
   "execution_count": 6,
   "metadata": {},
   "outputs": [
    {
     "name": "stdout",
     "output_type": "stream",
     "text": [
      "real\n"
     ]
    }
   ],
   "source": [
    "url = \"bytebank.com/cambio?moedaDestino=dolar&moedaOrigem=real\"\n",
    "\n",
    "def get_base_url(url:str):\n",
    "    indice_interrogação = url.find('?')\n",
    "    url_base = url[:indice_interrogação]\n",
    "    return indice_interrogação, url_base\n",
    "\n",
    "def get_url_parâmetros(url:str):\n",
    "    indice_interrogação = get_base_url(url=url)[0]\n",
    "    url_parâmetros = url[indice_interrogação + 1:]\n",
    "    return url_parâmetros\n",
    "\n",
    "def get_indice_parâmetro(url_parâmetros:str, parâmetro_busca:str):\n",
    "    return url_parâmetros.find(parâmetro_busca)\n",
    "\n",
    "def get_indice_valor(indice_parâmetros:int, parâmetro_busca:str):\n",
    "    return indice_parâmetros + len(parâmetro_busca) + 1\n",
    "\n",
    "def get_indice_e_comercial(url_parâmetros:str, indice_valor:int):\n",
    "    return url_parâmetros.find('&', indice_valor)\n",
    "\n",
    "def get_parâmetro(url:str, parâmetro_busca:str):\n",
    "    \n",
    "    #Separa base url e os parâmetros:\n",
    "    url_parâmetros = get_url_parâmetros(url=url)\n",
    "    \n",
    "    #Busca o valor de um parâmetro:\n",
    "    indice_parâmetros = get_indice_parâmetro(\n",
    "        url_parâmetros=url_parâmetros, \n",
    "        parâmetro_busca=parâmetro_busca\n",
    "    )\n",
    "    indice_valor = get_indice_valor(\n",
    "        indice_parâmetros=indice_parâmetros,\n",
    "        parâmetro_busca=parâmetro_busca\n",
    "    )    \n",
    "    indice_e_comercial = get_indice_e_comercial(\n",
    "        url_parâmetros=url_parâmetros,\n",
    "        indice_valor=indice_valor\n",
    "    )\n",
    "    valor = (\n",
    "        url_parâmetros[indice_valor:] if indice_e_comercial == -1\n",
    "        else url_parâmetros[indice_valor:indice_e_comercial]\n",
    "    )\n",
    "    return valor\n",
    "    \n",
    "print(get_parâmetro(url=url, parâmetro_busca='moedaOrigem'))"
   ]
  },
  {
   "cell_type": "markdown",
   "metadata": {},
   "source": [
    "#### Realizar Sanitização de Dados:\n",
    "    - Implementar uma sanitização na URL para retirar espaços e caracteres especiais:\n",
    "        • Métodos para retirar espaçamentos da URL:\n",
    "            ○   Replace:\n",
    "                Sintaxe:  string.replace(valor_á_ser_substituído, novo_valor)\n",
    "                - Função built-in do python que irá substituir um caracter/valor contido na string por um caracter/valor indicado;\n",
    "                ex:\n",
    "                    Entrada:\n",
    "                        url = \"   a  \"\n",
    "                        url.replace(\" \", \"\")\n",
    "                        print(url)\n",
    "                    Saída:\n",
    "                        >>> \"a\"\n",
    "\n",
    "            •   Strip:\n",
    "                Sintaxe:  string.strip()\n",
    "                -   Função built-in do python que irá:\n",
    "                    ○   Remover qualquer espaçamento no início ou fim da string;\n",
    "                    ○   Remover qualquer caracter especial do início ou fim da string como \\n, \\t.\n",
    "                ex:\n",
    "                    Entrada:\n",
    "                        url = \"   \\ta  \"\n",
    "                        url.strip()\n",
    "                        print(url)\n",
    "                    Saída:\n",
    "                        >>> \"a\"\n",
    "                \n",
    "                Existem + duas variantes para a função \"Strip()\" sendo elas:\n",
    "                    •   string.lstrip():\n",
    "                        -   Irá remover qualquer espaçamento ao lado esquerdo da string;\n",
    "                        -   Irá remover qualquer caracter especial ao lado esquerdo da string, como: \\t, \\n, etc... ;\n",
    "                        ex:\n",
    "                            Entrada:\n",
    "                                url = \"   \\ta  \"\n",
    "                                url.strip()\n",
    "                                print(url)\n",
    "                            Saída:\n",
    "                                >>> \"a  \"\n",
    "\n",
    "                    •   string.rstrip():\n",
    "                        -   Irá remover qualquer espaçamento ao lado direito da string;\n",
    "                        -   Irá remover qualquer caracter especial ao lado direito da string, como: \\t, \\n, etc... ;\n",
    "                        ex:\n",
    "                            Entrada:\n",
    "                                url = \"   \\ta \\n \"\n",
    "                                url.strip()\n",
    "                                print(url)\n",
    "                            Saída:\n",
    "                                >>> \"   \\ta\"\n",
    "\n",
    "        "
   ]
  },
  {
   "cell_type": "markdown",
   "metadata": {},
   "source": [
    "#### Inserção de Mensagem de Erro Para URL Vázia\n",
    "    - Implementação de um lanãmento de erro previsto;\n",
    "\n",
    "    •  No python é possível retornar erros na aplicação através da Função \"raize\":\n",
    "    Sintaxe: raize NomeErro(\"mensagem  erro\")\n",
    "\n",
    "        • É possível usar erros existentes no python:\n",
    "            ex:\n",
    "                Entrada:\n",
    "                    url = \" \"\n",
    "                    url.strip()\n",
    "                    if url == \"\":\n",
    "                        raize ValueError('A URL Está Vazia!)\n",
    "                Saída:\n",
    "                    >>> ValueError: A URL Está Vazia!\n",
    "        \n",
    "        • É possível criar um novo erro:\n",
    "            - Para criar um novo erro é necessário que seja criada uma nova classe para esse novo erro desejado, que herder a \n",
    "            classe Exception:\n",
    "            ex:\n",
    "                Entrada:\n",
    "                    class ErroURLVazia(Exception):\n",
    "                        def __str__(self) -> str:\n",
    "                            return f'ErroURLVazia {super().__str__()}'\n",
    "                    url = \" \"\n",
    "                    url.strip()\n",
    "                    if url == \"\":\n",
    "                        raize ErroURLVazia('A URL Está Vazia!)\n",
    "                Saída:\n",
    "                    >>> ErroURLVazia: A URL Está Vazia!\n",
    "        "
   ]
  },
  {
   "cell_type": "code",
   "execution_count": null,
   "metadata": {},
   "outputs": [],
   "source": [
    "#### Inserção de Mensagem de Erro Para URL Vázia"
   ]
  },
  {
   "cell_type": "code",
   "execution_count": 9,
   "metadata": {},
   "outputs": [],
   "source": [
    "def get_base_url(url:str):\n",
    "    #Sanitização da URL (limpeza dado)\n",
    "    url.strip()\n",
    "    if url == \"\":\n",
    "        raise ValueError('A URL Está Vazia!')\n",
    "    indice_interrogação = url.find('?')\n",
    "    url_base = url[:indice_interrogação]\n",
    "    return indice_interrogação, url_base"
   ]
  },
  {
   "cell_type": "code",
   "execution_count": 12,
   "metadata": {},
   "outputs": [
    {
     "ename": "ValueError",
     "evalue": "A URL Está Vazia!",
     "output_type": "error",
     "traceback": [
      "\u001b[1;31m---------------------------------------------------------------------------\u001b[0m",
      "\u001b[1;31mValueError\u001b[0m                                Traceback (most recent call last)",
      "\u001b[1;32mc:\\Users\\higor_custodio\\Documents\\Estudo\\Strings\\slicing_string_pos_variaveis.ipynb Célula 13\u001b[0m line \u001b[0;36m2\n\u001b[0;32m      <a href='vscode-notebook-cell:/c%3A/Users/higor_custodio/Documents/Estudo/Strings/slicing_string_pos_variaveis.ipynb#X15sZmlsZQ%3D%3D?line=0'>1</a>\u001b[0m \u001b[39m# print(get_parâmetro(url=url, parâmetro_busca='moedaOrigem'))\u001b[39;00m\n\u001b[1;32m----> <a href='vscode-notebook-cell:/c%3A/Users/higor_custodio/Documents/Estudo/Strings/slicing_string_pos_variaveis.ipynb#X15sZmlsZQ%3D%3D?line=1'>2</a>\u001b[0m \u001b[39mprint\u001b[39m(get_parâmetro(url\u001b[39m=\u001b[39;49m\u001b[39m\"\u001b[39;49m\u001b[39m\"\u001b[39;49m, parâmetro_busca\u001b[39m=\u001b[39;49m\u001b[39m'\u001b[39;49m\u001b[39mmoedaOrigem\u001b[39;49m\u001b[39m'\u001b[39;49m))\n",
      "\u001b[1;32mc:\\Users\\higor_custodio\\Documents\\Estudo\\Strings\\slicing_string_pos_variaveis.ipynb Célula 13\u001b[0m line \u001b[0;36m2\n\u001b[0;32m     <a href='vscode-notebook-cell:/c%3A/Users/higor_custodio/Documents/Estudo/Strings/slicing_string_pos_variaveis.ipynb#X15sZmlsZQ%3D%3D?line=21'>22</a>\u001b[0m \u001b[39mdef\u001b[39;00m \u001b[39mget_parâmetro\u001b[39m(url:\u001b[39mstr\u001b[39m, parâmetro_busca:\u001b[39mstr\u001b[39m):\n\u001b[0;32m     <a href='vscode-notebook-cell:/c%3A/Users/higor_custodio/Documents/Estudo/Strings/slicing_string_pos_variaveis.ipynb#X15sZmlsZQ%3D%3D?line=22'>23</a>\u001b[0m     \u001b[39m#Separa base url e os parâmetros:\u001b[39;00m\n\u001b[1;32m---> <a href='vscode-notebook-cell:/c%3A/Users/higor_custodio/Documents/Estudo/Strings/slicing_string_pos_variaveis.ipynb#X15sZmlsZQ%3D%3D?line=23'>24</a>\u001b[0m     url_parâmetros \u001b[39m=\u001b[39m get_url_parâmetros(url\u001b[39m=\u001b[39;49murl)\n\u001b[0;32m     <a href='vscode-notebook-cell:/c%3A/Users/higor_custodio/Documents/Estudo/Strings/slicing_string_pos_variaveis.ipynb#X15sZmlsZQ%3D%3D?line=25'>26</a>\u001b[0m     \u001b[39m#Busca o valor de um parâmetro:\u001b[39;00m\n\u001b[0;32m     <a href='vscode-notebook-cell:/c%3A/Users/higor_custodio/Documents/Estudo/Strings/slicing_string_pos_variaveis.ipynb#X15sZmlsZQ%3D%3D?line=26'>27</a>\u001b[0m     indice_parâmetros \u001b[39m=\u001b[39m get_indice_parâmetro(\n\u001b[0;32m     <a href='vscode-notebook-cell:/c%3A/Users/higor_custodio/Documents/Estudo/Strings/slicing_string_pos_variaveis.ipynb#X15sZmlsZQ%3D%3D?line=27'>28</a>\u001b[0m         url_parâmetros\u001b[39m=\u001b[39murl_parâmetros, \n\u001b[0;32m     <a href='vscode-notebook-cell:/c%3A/Users/higor_custodio/Documents/Estudo/Strings/slicing_string_pos_variaveis.ipynb#X15sZmlsZQ%3D%3D?line=28'>29</a>\u001b[0m         parâmetro_busca\u001b[39m=\u001b[39mparâmetro_busca\n\u001b[0;32m     <a href='vscode-notebook-cell:/c%3A/Users/higor_custodio/Documents/Estudo/Strings/slicing_string_pos_variaveis.ipynb#X15sZmlsZQ%3D%3D?line=29'>30</a>\u001b[0m     )\n",
      "\u001b[1;32mc:\\Users\\higor_custodio\\Documents\\Estudo\\Strings\\slicing_string_pos_variaveis.ipynb Célula 13\u001b[0m line \u001b[0;36m9\n\u001b[0;32m      <a href='vscode-notebook-cell:/c%3A/Users/higor_custodio/Documents/Estudo/Strings/slicing_string_pos_variaveis.ipynb#X15sZmlsZQ%3D%3D?line=7'>8</a>\u001b[0m \u001b[39mdef\u001b[39;00m \u001b[39mget_url_parâmetros\u001b[39m(url:\u001b[39mstr\u001b[39m):\n\u001b[1;32m----> <a href='vscode-notebook-cell:/c%3A/Users/higor_custodio/Documents/Estudo/Strings/slicing_string_pos_variaveis.ipynb#X15sZmlsZQ%3D%3D?line=8'>9</a>\u001b[0m     indice_interrogação \u001b[39m=\u001b[39m get_base_url(url\u001b[39m=\u001b[39;49murl)[\u001b[39m0\u001b[39m]\n\u001b[0;32m     <a href='vscode-notebook-cell:/c%3A/Users/higor_custodio/Documents/Estudo/Strings/slicing_string_pos_variaveis.ipynb#X15sZmlsZQ%3D%3D?line=9'>10</a>\u001b[0m     url_parâmetros \u001b[39m=\u001b[39m url[indice_interrogação \u001b[39m+\u001b[39m \u001b[39m1\u001b[39m:]\n\u001b[0;32m     <a href='vscode-notebook-cell:/c%3A/Users/higor_custodio/Documents/Estudo/Strings/slicing_string_pos_variaveis.ipynb#X15sZmlsZQ%3D%3D?line=10'>11</a>\u001b[0m     \u001b[39mreturn\u001b[39;00m url_parâmetros\n",
      "\u001b[1;32mc:\\Users\\higor_custodio\\Documents\\Estudo\\Strings\\slicing_string_pos_variaveis.ipynb Célula 13\u001b[0m line \u001b[0;36m3\n\u001b[0;32m      <a href='vscode-notebook-cell:/c%3A/Users/higor_custodio/Documents/Estudo/Strings/slicing_string_pos_variaveis.ipynb#X15sZmlsZQ%3D%3D?line=0'>1</a>\u001b[0m \u001b[39mdef\u001b[39;00m \u001b[39mget_base_url\u001b[39m(url:\u001b[39mstr\u001b[39m):\n\u001b[0;32m      <a href='vscode-notebook-cell:/c%3A/Users/higor_custodio/Documents/Estudo/Strings/slicing_string_pos_variaveis.ipynb#X15sZmlsZQ%3D%3D?line=1'>2</a>\u001b[0m     \u001b[39mif\u001b[39;00m url \u001b[39m==\u001b[39m \u001b[39m\"\u001b[39m\u001b[39m\"\u001b[39m:\n\u001b[1;32m----> <a href='vscode-notebook-cell:/c%3A/Users/higor_custodio/Documents/Estudo/Strings/slicing_string_pos_variaveis.ipynb#X15sZmlsZQ%3D%3D?line=2'>3</a>\u001b[0m         \u001b[39mraise\u001b[39;00m \u001b[39mValueError\u001b[39;00m(\u001b[39m'\u001b[39m\u001b[39mA URL Está Vazia!\u001b[39m\u001b[39m'\u001b[39m)\n\u001b[0;32m      <a href='vscode-notebook-cell:/c%3A/Users/higor_custodio/Documents/Estudo/Strings/slicing_string_pos_variaveis.ipynb#X15sZmlsZQ%3D%3D?line=3'>4</a>\u001b[0m     indice_interrogação \u001b[39m=\u001b[39m url\u001b[39m.\u001b[39mfind(\u001b[39m'\u001b[39m\u001b[39m?\u001b[39m\u001b[39m'\u001b[39m)\n\u001b[0;32m      <a href='vscode-notebook-cell:/c%3A/Users/higor_custodio/Documents/Estudo/Strings/slicing_string_pos_variaveis.ipynb#X15sZmlsZQ%3D%3D?line=4'>5</a>\u001b[0m     url_base \u001b[39m=\u001b[39m url[:indice_interrogação]\n",
      "\u001b[1;31mValueError\u001b[0m: A URL Está Vazia!"
     ]
    }
   ],
   "source": [
    "print(get_parâmetro(url=\"\", parâmetro_busca='moedaOrigem'))"
   ]
  }
 ],
 "metadata": {
  "kernelspec": {
   "display_name": "vm_mongo_bd_estudo",
   "language": "python",
   "name": "python3"
  },
  "language_info": {
   "codemirror_mode": {
    "name": "ipython",
    "version": 3
   },
   "file_extension": ".py",
   "mimetype": "text/x-python",
   "name": "python",
   "nbconvert_exporter": "python",
   "pygments_lexer": "ipython3",
   "version": "3.10.11"
  },
  "orig_nbformat": 4
 },
 "nbformat": 4,
 "nbformat_minor": 2
}
